{
 "cells": [
  {
   "cell_type": "code",
   "execution_count": 3,
   "metadata": {},
   "outputs": [],
   "source": [
    "import sys\n",
    "import time\n",
    "import numpy as np\n",
    "import matplotlib\n",
    "matplotlib.use('nbagg')\n",
    "import matplotlib.pyplot as plt\n",
    "from astropy import stats, visualization\n",
    "\n",
    "from indiclient.indicam import MATCam, F9WFSCam, CCDCam\n",
    "from camsrv.camsrv import CAMsrv\n",
    "\n",
    "%load_ext autoreload\n",
    "%autoreload 2"
   ]
  },
  {
   "cell_type": "code",
   "execution_count": 4,
   "metadata": {},
   "outputs": [
    {
     "name": "stderr",
     "output_type": "stream",
     "text": [
      "[I 190311 13:12:18 indiclient:1235] INDISwitchVector: CCD Simulator CONNECTION Connection SwitchVector OneOfMany\n",
      "[I 190311 13:12:18 indiclient:580] INDIElement: CONNECT Connect Switch On\n",
      "[I 190311 13:12:18 indiclient:580] INDIElement: DISCONNECT Disconnect Switch Off\n",
      "[I 190311 13:12:18 indiclient:1104] INDIVector: CCD Simulator DRIVER_INFO Driver Info TextVector read only\n",
      "[I 190311 13:12:18 indiclient:580] INDIElement: DRIVER_NAME Name Text CCD Simulator\n",
      "[I 190311 13:12:18 indiclient:580] INDIElement: DRIVER_EXEC Exec Text indi_simulator_ccd\n",
      "[I 190311 13:12:18 indiclient:580] INDIElement: DRIVER_VERSION Version Text 1.0\n",
      "[I 190311 13:12:18 indiclient:580] INDIElement: DRIVER_INTERFACE Interface Text 22\n",
      "[I 190311 13:12:18 indiclient:1104] INDIVector: CCD Simulator POLLING_PERIOD Polling NumberVector read and write\n",
      "[I 190311 13:12:18 indiclient:580] INDIElement: PERIOD_MS Period (ms) Number 1000\n",
      "[I 190311 13:12:18 indiclient:1235] INDISwitchVector: Telescope Simulator CONNECTION Connection SwitchVector OneOfMany\n",
      "[I 190311 13:12:18 indiclient:580] INDIElement: CONNECT Connect Switch On\n",
      "[I 190311 13:12:18 indiclient:580] INDIElement: DISCONNECT Disconnect Switch Off\n",
      "[I 190311 13:12:18 indiclient:1104] INDIVector: Telescope Simulator DRIVER_INFO Driver Info TextVector read only\n",
      "[I 190311 13:12:18 indiclient:580] INDIElement: DRIVER_NAME Name Text Telescope Simulator\n",
      "[I 190311 13:12:18 indiclient:580] INDIElement: DRIVER_EXEC Exec Text indi_simulator_telescope\n",
      "[I 190311 13:12:18 indiclient:580] INDIElement: DRIVER_VERSION Version Text 1.0\n",
      "[I 190311 13:12:18 indiclient:580] INDIElement: DRIVER_INTERFACE Interface Text 5\n",
      "[I 190311 13:12:18 indiclient:1104] INDIVector: Telescope Simulator POLLING_PERIOD Polling NumberVector read and write\n",
      "[I 190311 13:12:18 indiclient:580] INDIElement: PERIOD_MS Period (ms) Number 250\n",
      "[I 190311 13:12:18 indiclient:1235] INDISwitchVector: Telescope Simulator DEBUG Debug SwitchVector OneOfMany\n",
      "[I 190311 13:12:18 indiclient:580] INDIElement: ENABLE Enable Switch Off\n",
      "[I 190311 13:12:18 indiclient:580] INDIElement: DISABLE Disable Switch On\n",
      "[I 190311 13:12:18 indiclient:1235] INDISwitchVector: Telescope Simulator CONFIG_PROCESS Configuration SwitchVector AtMostOne\n",
      "[I 190311 13:12:18 indiclient:580] INDIElement: CONFIG_LOAD Load Switch Off\n",
      "[I 190311 13:12:18 indiclient:580] INDIElement: CONFIG_SAVE Save Switch Off\n",
      "[I 190311 13:12:18 indiclient:580] INDIElement: CONFIG_DEFAULT Default Switch Off\n",
      "[I 190311 13:12:18 indiclient:1235] INDISwitchVector: Telescope Simulator CONNECTION_MODE Connection Mode SwitchVector OneOfMany\n",
      "[I 190311 13:12:18 indiclient:580] INDIElement: CONNECTION_SERIAL Serial Switch On\n",
      "[I 190311 13:12:18 indiclient:580] INDIElement: CONNECTION_TCP Ethernet Switch Off\n",
      "[I 190311 13:12:18 indiclient:1104] INDIVector: Telescope Simulator DEVICE_PORT Ports TextVector read and write\n",
      "[I 190311 13:12:18 indiclient:580] INDIElement: PORT Port Text /dev/cu.usbserial\n",
      "[I 190311 13:12:18 indiclient:1235] INDISwitchVector: Telescope Simulator DEVICE_BAUD_RATE Baud Rate SwitchVector OneOfMany\n",
      "[I 190311 13:12:18 indiclient:580] INDIElement: 9600 9600 Switch On\n",
      "[I 190311 13:12:18 indiclient:580] INDIElement: 19200 19200 Switch Off\n",
      "[I 190311 13:12:18 indiclient:580] INDIElement: 38400 38400 Switch Off\n",
      "[I 190311 13:12:18 indiclient:580] INDIElement: 57600 57600 Switch Off\n",
      "[I 190311 13:12:18 indiclient:580] INDIElement: 115200 115200 Switch Off\n",
      "[I 190311 13:12:18 indiclient:580] INDIElement: 230400 230400 Switch Off\n",
      "[I 190311 13:12:18 indiclient:1235] INDISwitchVector: Telescope Simulator DEVICE_AUTO_SEARCH Auto Search SwitchVector OneOfMany\n",
      "[I 190311 13:12:18 indiclient:580] INDIElement: ENABLED Enabled Switch On\n",
      "[I 190311 13:12:18 indiclient:580] INDIElement: DISABLED Disabled Switch Off\n",
      "[I 190311 13:12:18 indiclient:1235] INDISwitchVector: Telescope Simulator DEVICE_PORT_SCAN Refresh SwitchVector OneOfMany\n",
      "[I 190311 13:12:18 indiclient:580] INDIElement: Scan Ports Scan Ports Switch Off\n",
      "[I 190311 13:12:18 indiclient:1235] INDISwitchVector: Telescope Simulator SYSTEM_PORTS System Ports SwitchVector AtMostOne\n",
      "[I 190311 13:12:18 indiclient:580] INDIElement: /dev/cu.Bluetooth-Incoming-Port /dev/cu.Bluetooth-Incoming-Port Switch Off\n",
      "[I 190311 13:12:18 indiclient:580] INDIElement: /dev/cu.MALS /dev/cu.MALS Switch Off\n",
      "[I 190311 13:12:18 indiclient:580] INDIElement: /dev/cu.SOC /dev/cu.SOC Switch Off\n",
      "[I 190311 13:12:18 indiclient:1104] INDIVector: Telescope Simulator ACTIVE_DEVICES Snoop devices TextVector read and write\n",
      "[I 190311 13:12:18 indiclient:580] INDIElement: ACTIVE_GPS GPS Text GPS Simulator\n",
      "[I 190311 13:12:18 indiclient:580] INDIElement: ACTIVE_DOME DOME Text Dome Simulator\n",
      "[I 190311 13:12:18 indiclient:1235] INDISwitchVector: Telescope Simulator DOME_POLICY Dome parking policy SwitchVector OneOfMany\n",
      "[I 190311 13:12:18 indiclient:580] INDIElement: NO_ACTION Ignore dome Switch On\n",
      "[I 190311 13:12:18 indiclient:580] INDIElement: LOCK_PARKING Dome locks Switch Off\n",
      "[I 190311 13:12:18 indiclient:580] INDIElement: FORCE_CLOSE Dome parks Switch Off\n",
      "[I 190311 13:12:18 indiclient:580] INDIElement: LOCK_AND_FORCE Both Switch Off\n",
      "[I 190311 13:12:18 indiclient:1104] INDIVector: Telescope Simulator TELESCOPE_INFO Scope Properties NumberVector read and write\n",
      "[I 190311 13:12:18 indiclient:580] INDIElement: TELESCOPE_APERTURE Aperture (mm) Number 120\n",
      "[I 190311 13:12:18 indiclient:580] INDIElement: TELESCOPE_FOCAL_LENGTH Focal Length (mm) Number 900\n",
      "[I 190311 13:12:18 indiclient:580] INDIElement: GUIDER_APERTURE Guider Aperture (mm) Number 120\n",
      "[I 190311 13:12:18 indiclient:580] INDIElement: GUIDER_FOCAL_LENGTH Guider Focal Length (mm) Number 900\n",
      "[I 190311 13:12:18 indiclient:1104] INDIVector: Telescope Simulator SCOPE_CONFIG_NAME Scope Name TextVector read and write\n",
      "[I 190311 13:12:18 indiclient:580] INDIElement: SCOPE_CONFIG_NAME Config Name Text \n",
      "[I 190311 13:12:18 indiclient:1235] INDISwitchVector: Telescope Simulator ON_COORD_SET On Set SwitchVector OneOfMany\n",
      "[I 190311 13:12:18 indiclient:580] INDIElement: TRACK Track Switch On\n",
      "[I 190311 13:12:18 indiclient:580] INDIElement: SLEW Slew Switch Off\n",
      "[I 190311 13:12:18 indiclient:580] INDIElement: SYNC Sync Switch Off\n",
      "[I 190311 13:12:18 indiclient:1104] INDIVector: Telescope Simulator EQUATORIAL_EOD_COORD Eq. Coordinates NumberVector read and write\n",
      "[I 190311 13:12:18 indiclient:580] INDIElement: RA RA (hh:mm:ss) Number 7.4845283712546706312\n",
      "[I 190311 13:12:18 indiclient:580] INDIElement: DEC DEC (dd:mm:ss) Number 90\n",
      "[I 190311 13:12:18 indiclient:1235] INDISwitchVector: Telescope Simulator TELESCOPE_ABORT_MOTION Abort Motion SwitchVector AtMostOne\n",
      "[I 190311 13:12:18 indiclient:580] INDIElement: ABORT Abort Switch Off\n",
      "[I 190311 13:12:18 indiclient:1235] INDISwitchVector: Telescope Simulator TELESCOPE_TRACK_MODE Track Mode SwitchVector OneOfMany\n",
      "[I 190311 13:12:18 indiclient:580] INDIElement: TRACK_SIDEREAL Sidereal Switch On\n",
      "[I 190311 13:12:18 indiclient:580] INDIElement: TRACK_CUSTOM Custom Switch Off\n",
      "[I 190311 13:12:18 indiclient:1235] INDISwitchVector: Telescope Simulator TELESCOPE_TRACK_STATE Tracking SwitchVector OneOfMany\n",
      "[I 190311 13:12:18 indiclient:580] INDIElement: TRACK_ON On Switch Off\n",
      "[I 190311 13:12:18 indiclient:580] INDIElement: TRACK_OFF Off Switch On\n",
      "[I 190311 13:12:18 indiclient:1235] INDISwitchVector: CCD Simulator DEBUG Debug SwitchVector OneOfMany\n",
      "[I 190311 13:12:18 indiclient:580] INDIElement: ENABLE Enable Switch Off\n",
      "[I 190311 13:12:18 indiclient:580] INDIElement: DISABLE Disable Switch On\n",
      "[I 190311 13:12:18 indiclient:1235] INDISwitchVector: CCD Simulator CONFIG_PROCESS Configuration SwitchVector AtMostOne\n",
      "[I 190311 13:12:18 indiclient:580] INDIElement: CONFIG_LOAD Load Switch Off\n",
      "[I 190311 13:12:18 indiclient:580] INDIElement: CONFIG_SAVE Save Switch Off\n",
      "[I 190311 13:12:18 indiclient:580] INDIElement: CONFIG_DEFAULT Default Switch Off\n",
      "[I 190311 13:12:18 indiclient:1104] INDIVector: CCD Simulator ACTIVE_DEVICES Snoop devices TextVector read and write\n",
      "[I 190311 13:12:18 indiclient:580] INDIElement: ACTIVE_TELESCOPE Telescope Text Telescope Simulator\n",
      "[I 190311 13:12:18 indiclient:580] INDIElement: ACTIVE_FOCUSER Focuser Text Focuser Simulator\n",
      "[I 190311 13:12:18 indiclient:580] INDIElement: ACTIVE_FILTER Filter Text CCD Simulator\n"
     ]
    },
    {
     "name": "stderr",
     "output_type": "stream",
     "text": [
      "[I 190311 13:12:18 indiclient:580] INDIElement: ACTIVE_SKYQUALITY Sky Quality Text SQM\n",
      "[I 190311 13:12:18 indiclient:1104] INDIVector: CCD Simulator SIMULATOR_SETTINGS Simulator Settings NumberVector read and write\n",
      "[I 190311 13:12:18 indiclient:580] INDIElement: SIM_XRES CCD X resolution Number 1280\n",
      "[I 190311 13:12:18 indiclient:580] INDIElement: SIM_YRES CCD Y resolution Number 1024\n",
      "[I 190311 13:12:18 indiclient:580] INDIElement: SIM_XSIZE CCD X Pixel Size Number 5.2000000000000001776\n",
      "[I 190311 13:12:18 indiclient:580] INDIElement: SIM_YSIZE CCD Y Pixel Size Number 5.2000000000000001776\n",
      "[I 190311 13:12:18 indiclient:580] INDIElement: SIM_MAXVAL CCD Maximum ADU Number 65000\n",
      "[I 190311 13:12:18 indiclient:580] INDIElement: SIM_BIAS CCD Bias Number 10\n",
      "[I 190311 13:12:18 indiclient:580] INDIElement: SIM_SATURATION Saturation Mag Number 1\n",
      "[I 190311 13:12:18 indiclient:580] INDIElement: SIM_LIMITINGMAG Limiting Mag Number 17\n",
      "[I 190311 13:12:18 indiclient:580] INDIElement: SIM_NOISE CCD Noise Number 10\n",
      "[I 190311 13:12:18 indiclient:580] INDIElement: SIM_SKYGLOW Sky Glow (magnitudes) Number 19.5\n",
      "[I 190311 13:12:18 indiclient:580] INDIElement: SIM_OAGOFFSET Oag Offset (arcminutes) Number 0\n",
      "[I 190311 13:12:18 indiclient:580] INDIElement: SIM_POLAR PAE (arcminutes) Number 0\n",
      "[I 190311 13:12:18 indiclient:580] INDIElement: SIM_POLARDRIFT PAE Drift (minutes) Number 0\n",
      "[I 190311 13:12:18 indiclient:580] INDIElement: SIM_ROTATION Rotation CW (degrees) Number 0\n",
      "[I 190311 13:12:18 indiclient:1235] INDISwitchVector: CCD Simulator ON_TIME_FACTOR Time Factor SwitchVector OneOfMany\n",
      "[I 190311 13:12:18 indiclient:580] INDIElement: 1X Actual Time Switch On\n",
      "[I 190311 13:12:18 indiclient:580] INDIElement: 10X 10x Switch Off\n",
      "[I 190311 13:12:18 indiclient:580] INDIElement: 100X 100x Switch Off\n",
      "[I 190311 13:12:18 indiclient:1104] INDIVector: CCD Simulator EQUATORIAL_PE EQ PE NumberVector read and write\n",
      "[I 190311 13:12:18 indiclient:580] INDIElement: RA_PE RA (hh:mm:ss) Number 0\n",
      "[I 190311 13:12:18 indiclient:580] INDIElement: DEC_PE DEC (dd:mm:ss) Number 0\n",
      "[I 190311 13:12:18 indiclient:1104] INDIVector: CCD Simulator CCD_EXPOSURE Expose NumberVector read and write\n",
      "[I 190311 13:12:18 indiclient:580] INDIElement: CCD_EXPOSURE_VALUE Duration (s) Number 0\n",
      "[I 190311 13:12:18 indiclient:1235] INDISwitchVector: CCD Simulator CCD_ABORT_EXPOSURE Expose Abort SwitchVector AtMostOne\n",
      "[I 190311 13:12:18 indiclient:580] INDIElement: ABORT Abort Switch Off\n",
      "[I 190311 13:12:18 indiclient:1104] INDIVector: CCD Simulator CCD_FRAME Frame NumberVector read and write\n",
      "[I 190311 13:12:18 indiclient:580] INDIElement: X Left Number 0\n",
      "[I 190311 13:12:18 indiclient:580] INDIElement: Y Top Number 0\n",
      "[I 190311 13:12:18 indiclient:580] INDIElement: WIDTH Width Number 1280\n",
      "[I 190311 13:12:18 indiclient:580] INDIElement: HEIGHT Height Number 1024\n",
      "[I 190311 13:12:18 indiclient:1104] INDIVector: CCD Simulator CCD_BINNING Binning NumberVector read and write\n",
      "[I 190311 13:12:18 indiclient:580] INDIElement: HOR_BIN X Number 1\n",
      "[I 190311 13:12:18 indiclient:580] INDIElement: VER_BIN Y Number 1\n",
      "[I 190311 13:12:18 indiclient:1104] INDIVector: CCD Simulator FITS_HEADER FITS Header TextVector read and write\n",
      "[I 190311 13:12:18 indiclient:580] INDIElement: FITS_OBSERVER Observer Text Unknown\n",
      "[I 190311 13:12:18 indiclient:580] INDIElement: FITS_OBJECT Object Text Unknown\n",
      "[I 190311 13:12:18 indiclient:1104] INDIVector: CCD Simulator GUIDER_EXPOSURE Guide Head NumberVector read and write\n",
      "[I 190311 13:12:18 indiclient:580] INDIElement: GUIDER_EXPOSURE_VALUE Duration (s) Number 1\n",
      "[I 190311 13:12:18 indiclient:1235] INDISwitchVector: CCD Simulator GUIDER_ABORT_EXPOSURE Guide Abort SwitchVector AtMostOne\n",
      "[I 190311 13:12:18 indiclient:580] INDIElement: ABORT Abort Switch Off\n",
      "[I 190311 13:12:18 indiclient:1104] INDIVector: CCD Simulator GUIDER_FRAME Frame NumberVector read and write\n",
      "[I 190311 13:12:18 indiclient:580] INDIElement: X Left Number 0\n",
      "[I 190311 13:12:18 indiclient:580] INDIElement: Y Top Number 0\n",
      "[I 190311 13:12:18 indiclient:580] INDIElement: WIDTH Width Number 500\n",
      "[I 190311 13:12:18 indiclient:580] INDIElement: HEIGHT Height Number 290\n",
      "[I 190311 13:12:18 indiclient:1104] INDIVector: CCD Simulator CCD_TEMPERATURE Temperature NumberVector read and write\n",
      "[I 190311 13:12:18 indiclient:580] INDIElement: CCD_TEMPERATURE_VALUE Temperature (C) Number 20\n",
      "[I 190311 13:12:18 indiclient:1104] INDIVector: CCD Simulator CCD_INFO CCD Information NumberVector read only\n",
      "[I 190311 13:12:18 indiclient:580] INDIElement: CCD_MAX_X Max. Width Number 1280\n",
      "[I 190311 13:12:18 indiclient:580] INDIElement: CCD_MAX_Y Max. Height Number 1024\n",
      "[I 190311 13:12:18 indiclient:580] INDIElement: CCD_PIXEL_SIZE Pixel size (um) Number 5.1999998092651367188\n",
      "[I 190311 13:12:18 indiclient:580] INDIElement: CCD_PIXEL_SIZE_X Pixel size X Number 5.1999998092651367188\n",
      "[I 190311 13:12:18 indiclient:580] INDIElement: CCD_PIXEL_SIZE_Y Pixel size Y Number 5.1999998092651367188\n",
      "[I 190311 13:12:18 indiclient:580] INDIElement: CCD_BITSPERPIXEL Bits per pixel Number 16\n",
      "[I 190311 13:12:18 indiclient:1104] INDIVector: CCD Simulator GUIDER_INFO Guide Info NumberVector read only\n",
      "[I 190311 13:12:18 indiclient:580] INDIElement: CCD_MAX_X Max. Width Number 500\n",
      "[I 190311 13:12:18 indiclient:580] INDIElement: CCD_MAX_Y Max. Height Number 290\n",
      "[I 190311 13:12:18 indiclient:580] INDIElement: CCD_PIXEL_SIZE Pixel size (um) Number 9.8000001907348632812\n",
      "[I 190311 13:12:18 indiclient:580] INDIElement: CCD_PIXEL_SIZE_X Pixel size X Number 9.8000001907348632812\n",
      "[I 190311 13:12:18 indiclient:580] INDIElement: CCD_PIXEL_SIZE_Y Pixel size Y Number 12.600000381469726562\n",
      "[I 190311 13:12:18 indiclient:580] INDIElement: CCD_BITSPERPIXEL Bits per pixel Number 16\n",
      "[I 190311 13:12:18 indiclient:1104] INDIVector: CCD Simulator GUIDER_BINNING Binning NumberVector read and write\n",
      "[I 190311 13:12:18 indiclient:580] INDIElement: HOR_BIN X Number 1\n",
      "[I 190311 13:12:18 indiclient:580] INDIElement: VER_BIN Y Number 1\n",
      "[I 190311 13:12:18 indiclient:1235] INDISwitchVector: CCD Simulator CCD_COMPRESSION Image SwitchVector OneOfMany\n",
      "[I 190311 13:12:18 indiclient:580] INDIElement: CCD_COMPRESS Compress Switch Off\n",
      "[I 190311 13:12:18 indiclient:580] INDIElement: CCD_RAW Raw Switch On\n",
      "[I 190311 13:12:18 indiclient:1104] INDIVector: CCD Simulator CCD1 Image Data BLOBVector read only\n",
      "[I 190311 13:12:18 indiclient:580] INDIElement: CCD1 Image BLOB \n",
      "[I 190311 13:12:18 indiclient:1235] INDISwitchVector: CCD Simulator GUIDER_COMPRESSION Image SwitchVector OneOfMany\n",
      "[I 190311 13:12:18 indiclient:580] INDIElement: GUIDER_COMPRESS Compress Switch Off\n",
      "[I 190311 13:12:18 indiclient:580] INDIElement: GUIDER_RAW Raw Switch On\n",
      "[I 190311 13:12:18 indiclient:1104] INDIVector: CCD Simulator CCD2 Image Data BLOBVector read only\n",
      "[I 190311 13:12:18 indiclient:580] INDIElement: CCD2 Guider Image BLOB \n",
      "[I 190311 13:12:18 indiclient:1104] INDIVector: CCD Simulator TELESCOPE_TIMED_GUIDE_NS Guide N/S NumberVector read and write\n",
      "[I 190311 13:12:18 indiclient:580] INDIElement: TIMED_GUIDE_N North (ms) Number 0\n",
      "[I 190311 13:12:18 indiclient:580] INDIElement: TIMED_GUIDE_S South (ms) Number 0\n",
      "[I 190311 13:12:18 indiclient:1104] INDIVector: CCD Simulator TELESCOPE_TIMED_GUIDE_WE Guide E/W NumberVector read and write\n",
      "[I 190311 13:12:18 indiclient:580] INDIElement: TIMED_GUIDE_W West (ms) Number 0\n",
      "[I 190311 13:12:18 indiclient:580] INDIElement: TIMED_GUIDE_E East (ms) Number 0\n",
      "[I 190311 13:12:18 indiclient:1235] INDISwitchVector: CCD Simulator CCD_FRAME_TYPE Frame Type SwitchVector OneOfMany\n",
      "[I 190311 13:12:18 indiclient:580] INDIElement: FRAME_LIGHT Light Switch On\n",
      "[I 190311 13:12:18 indiclient:580] INDIElement: FRAME_BIAS Bias Switch Off\n",
      "[I 190311 13:12:18 indiclient:580] INDIElement: FRAME_DARK Dark Switch Off\n",
      "[I 190311 13:12:18 indiclient:580] INDIElement: FRAME_FLAT Flat Switch Off\n",
      "[I 190311 13:12:18 indiclient:1235] INDISwitchVector: CCD Simulator CCD_FRAME_RESET Frame Values SwitchVector OneOfMany\n",
      "[I 190311 13:12:18 indiclient:580] INDIElement: RESET Reset Switch Off\n",
      "[I 190311 13:12:18 indiclient:1235] INDISwitchVector: CCD Simulator GUIDER_FRAME_TYPE Frame Type SwitchVector OneOfMany\n",
      "[I 190311 13:12:18 indiclient:580] INDIElement: FRAME_LIGHT Light Switch On\n"
     ]
    },
    {
     "name": "stderr",
     "output_type": "stream",
     "text": [
      "[I 190311 13:12:18 indiclient:580] INDIElement: FRAME_BIAS Bias Switch Off\n",
      "[I 190311 13:12:18 indiclient:580] INDIElement: FRAME_DARK Dark Switch Off\n",
      "[I 190311 13:12:18 indiclient:580] INDIElement: FRAME_FLAT Flat Switch Off\n",
      "[I 190311 13:12:18 indiclient:1235] INDISwitchVector: CCD Simulator CCD_RAPID_GUIDE Rapid Guide SwitchVector OneOfMany\n",
      "[I 190311 13:12:18 indiclient:580] INDIElement: ENABLE Enable Switch Off\n",
      "[I 190311 13:12:18 indiclient:580] INDIElement: DISABLE Disable Switch On\n",
      "[I 190311 13:12:18 indiclient:1235] INDISwitchVector: CCD Simulator GUIDER_RAPID_GUIDE Guider Head Rapid Guide SwitchVector OneOfMany\n",
      "[I 190311 13:12:18 indiclient:580] INDIElement: ENABLE Enable Switch Off\n",
      "[I 190311 13:12:18 indiclient:580] INDIElement: DISABLE Disable Switch On\n",
      "[I 190311 13:12:18 indiclient:1235] INDISwitchVector: CCD Simulator TELESCOPE_TYPE Telescope SwitchVector OneOfMany\n",
      "[I 190311 13:12:18 indiclient:580] INDIElement: TELESCOPE_PRIMARY Primary Switch On\n",
      "[I 190311 13:12:18 indiclient:580] INDIElement: TELESCOPE_GUIDE Guide Switch Off\n",
      "[I 190311 13:12:18 indiclient:1235] INDISwitchVector: CCD Simulator WCS_CONTROL WCS SwitchVector OneOfMany\n",
      "[I 190311 13:12:18 indiclient:580] INDIElement: WCS_ENABLE Enable Switch On\n",
      "[I 190311 13:12:18 indiclient:580] INDIElement: WCS_DISABLE Disable Switch Off\n",
      "[I 190311 13:12:18 indiclient:1235] INDISwitchVector: CCD Simulator UPLOAD_MODE Upload SwitchVector OneOfMany\n",
      "[I 190311 13:12:18 indiclient:580] INDIElement: UPLOAD_CLIENT Client Switch On\n",
      "[I 190311 13:12:18 indiclient:580] INDIElement: UPLOAD_LOCAL Local Switch Off\n",
      "[I 190311 13:12:18 indiclient:580] INDIElement: UPLOAD_BOTH Both Switch Off\n",
      "[I 190311 13:12:18 indiclient:1104] INDIVector: CCD Simulator UPLOAD_SETTINGS Upload Settings TextVector read and write\n",
      "[I 190311 13:12:18 indiclient:580] INDIElement: UPLOAD_DIR Dir Text /Users/tim\n",
      "[I 190311 13:12:18 indiclient:580] INDIElement: UPLOAD_PREFIX Prefix Text IMAGE_XXX\n",
      "[I 190311 13:12:18 indiclient:1235] INDISwitchVector: CCD Simulator CCD_EXPOSURE_LOOP Rapid Looping SwitchVector OneOfMany\n",
      "[I 190311 13:12:18 indiclient:580] INDIElement: LOOP_ON Enabled Switch Off\n",
      "[I 190311 13:12:18 indiclient:580] INDIElement: LOOP_OFF Disabled Switch On\n",
      "[I 190311 13:12:18 indiclient:1104] INDIVector: CCD Simulator CCD_EXPOSURE_LOOP_COUNT Rapid Count NumberVector read and write\n",
      "[I 190311 13:12:18 indiclient:580] INDIElement: FRAMES Frames Number 1\n",
      "[I 190311 13:12:18 indiclient:1235] INDISwitchVector: CCD Simulator CCD_VIDEO_STREAM Video Stream SwitchVector OneOfMany\n",
      "[I 190311 13:12:18 indiclient:580] INDIElement: STREAM_ON Stream On Switch Off\n",
      "[I 190311 13:12:18 indiclient:580] INDIElement: STREAM_OFF Stream Off Switch On\n",
      "[I 190311 13:12:18 indiclient:1104] INDIVector: CCD Simulator STREAMING_EXPOSURE Expose NumberVector read and write\n",
      "[I 190311 13:12:18 indiclient:580] INDIElement: STREAMING_EXPOSURE_VALUE Duration (s) Number 0.10000000000000000555\n",
      "[I 190311 13:12:18 indiclient:1104] INDIVector: CCD Simulator FPS FPS NumberVector read only\n",
      "[I 190311 13:12:18 indiclient:580] INDIElement: EST_FPS Instant. Number 30\n",
      "[I 190311 13:12:18 indiclient:580] INDIElement: AVG_FPS Average (1 sec.) Number 30\n",
      "[I 190311 13:12:18 indiclient:1235] INDISwitchVector: CCD Simulator RECORD_STREAM Video Record SwitchVector OneOfMany\n",
      "[I 190311 13:12:18 indiclient:580] INDIElement: RECORD_ON Record On Switch Off\n",
      "[I 190311 13:12:18 indiclient:580] INDIElement: RECORD_DURATION_ON Record (Duration) Switch Off\n",
      "[I 190311 13:12:18 indiclient:580] INDIElement: RECORD_FRAME_ON Record (Frames) Switch Off\n",
      "[I 190311 13:12:18 indiclient:580] INDIElement: RECORD_OFF Record Off Switch On\n",
      "[I 190311 13:12:18 indiclient:1104] INDIVector: CCD Simulator RECORD_FILE Record File TextVector read and write\n",
      "[I 190311 13:12:18 indiclient:580] INDIElement: RECORD_FILE_DIR Dir. Text /Users/tim/indi__D_\n",
      "[I 190311 13:12:18 indiclient:580] INDIElement: RECORD_FILE_NAME Name Text indi_record__T_\n",
      "[I 190311 13:12:18 indiclient:1104] INDIVector: CCD Simulator RECORD_OPTIONS Record Options NumberVector read and write\n",
      "[I 190311 13:12:18 indiclient:580] INDIElement: RECORD_DURATION Duration (sec) Number 1\n",
      "[I 190311 13:12:18 indiclient:580] INDIElement: RECORD_FRAME_TOTAL Frames Number 30\n",
      "[I 190311 13:12:18 indiclient:1104] INDIVector: CCD Simulator CCD_STREAM_FRAME Frame NumberVector read and write\n",
      "[I 190311 13:12:18 indiclient:580] INDIElement: X Left Number 0\n",
      "[I 190311 13:12:18 indiclient:580] INDIElement: Y Top Number 0\n",
      "[I 190311 13:12:18 indiclient:580] INDIElement: WIDTH Width Number 1280\n",
      "[I 190311 13:12:18 indiclient:580] INDIElement: HEIGHT Height Number 1024\n",
      "[I 190311 13:12:18 indiclient:1235] INDISwitchVector: CCD Simulator CCD_STREAM_ENCODER Encoder SwitchVector OneOfMany\n",
      "[I 190311 13:12:18 indiclient:580] INDIElement: RAW RAW Switch On\n",
      "[I 190311 13:12:18 indiclient:580] INDIElement: MJPEG MJPEG Switch Off\n",
      "[I 190311 13:12:18 indiclient:1235] INDISwitchVector: CCD Simulator CCD_STREAM_RECORDER Recorder SwitchVector OneOfMany\n",
      "[I 190311 13:12:18 indiclient:580] INDIElement: SER SER Switch On\n",
      "[I 190311 13:12:18 indiclient:1235] INDISwitchVector: CCD Simulator CCD_COOLER Cooler SwitchVector OneOfMany\n",
      "[I 190311 13:12:18 indiclient:580] INDIElement: COOLER_ON ON Switch Off\n",
      "[I 190311 13:12:18 indiclient:580] INDIElement: COOLER_OFF OFF Switch On\n",
      "[I 190311 13:12:18 indiclient:1104] INDIVector: CCD Simulator FILTER_SLOT Filter Slot NumberVector read and write\n",
      "[I 190311 13:12:18 indiclient:580] INDIElement: FILTER_SLOT_VALUE Filter Number 1\n",
      "[I 190311 13:12:18 indiclient:1104] INDIVector: CCD Simulator FILTER_NAME Filter TextVector read and write\n",
      "[I 190311 13:12:18 indiclient:580] INDIElement: FILTER_SLOT_NAME_1 Filter#1 Text Red\n",
      "[I 190311 13:12:18 indiclient:580] INDIElement: FILTER_SLOT_NAME_2 Filter#2 Text Green\n",
      "[I 190311 13:12:18 indiclient:580] INDIElement: FILTER_SLOT_NAME_3 Filter#3 Text Blue\n",
      "[I 190311 13:12:18 indiclient:580] INDIElement: FILTER_SLOT_NAME_4 Filter#4 Text H_Alpha\n",
      "[I 190311 13:12:18 indiclient:580] INDIElement: FILTER_SLOT_NAME_5 Filter#5 Text SII\n",
      "[I 190311 13:12:18 indiclient:580] INDIElement: FILTER_SLOT_NAME_6 Filter#6 Text OIII\n",
      "[I 190311 13:12:18 indiclient:580] INDIElement: FILTER_SLOT_NAME_7 Filter#7 Text LPR\n",
      "[I 190311 13:12:18 indiclient:580] INDIElement: FILTER_SLOT_NAME_8 Filter#8 Text Luminance\n",
      "[I 190311 13:12:18 indiclient:1104] INDIVector: CCD Simulator CCD_ROTATION CCD FOV NumberVector read and write\n",
      "[I 190311 13:12:18 indiclient:580] INDIElement: CCD_ROTATION_VALUE Rotation Number 0\n"
     ]
    }
   ],
   "source": [
    "s = CAMsrv()"
   ]
  },
  {
   "cell_type": "code",
   "execution_count": null,
   "metadata": {},
   "outputs": [],
   "source": [
    "c.cooler"
   ]
  },
  {
   "cell_type": "code",
   "execution_count": 6,
   "metadata": {},
   "outputs": [
    {
     "data": {
      "text/plain": [
       "56"
      ]
     },
     "execution_count": 6,
     "metadata": {},
     "output_type": "execute_result"
    }
   ],
   "source": [
    "sys.getsizeof(s.camera)"
   ]
  },
  {
   "cell_type": "code",
   "execution_count": null,
   "metadata": {},
   "outputs": [],
   "source": [
    "#  filter 1 -> R\n",
    "#  filter 2 -> V\n",
    "#  filter 3 -> B\n",
    "#  filter 4 -> clear\n",
    "c.filter"
   ]
  },
  {
   "cell_type": "code",
   "execution_count": null,
   "metadata": {},
   "outputs": [],
   "source": [
    "c.currentElement"
   ]
  },
  {
   "cell_type": "code",
   "execution_count": null,
   "metadata": {},
   "outputs": [],
   "source": [
    "f = c.expose(exptime=60, exptype=\"Light\")"
   ]
  },
  {
   "cell_type": "code",
   "execution_count": null,
   "metadata": {},
   "outputs": [],
   "source": [
    "norm = visualization.ImageNormalize(\n",
    "    f[0].data,\n",
    "    interval=visualization.ZScaleInterval(),\n",
    "    stretch=visualization.AsinhStretch()\n",
    ")\n",
    "plt.imshow(f[0].data, norm=norm)\n",
    "plt.show()"
   ]
  },
  {
   "cell_type": "code",
   "execution_count": null,
   "metadata": {},
   "outputs": [],
   "source": [
    "f.writeto(\"globular.fits\", clobber=True)"
   ]
  },
  {
   "cell_type": "code",
   "execution_count": null,
   "metadata": {},
   "outputs": [],
   "source": [
    "f[0].header"
   ]
  },
  {
   "cell_type": "code",
   "execution_count": null,
   "metadata": {},
   "outputs": [],
   "source": [
    "int(c.get_float(\"SBIG CCD\", \"FILTER_SLOT\", \"FILTER_SLOT_VALUE\"))"
   ]
  },
  {
   "cell_type": "code",
   "execution_count": null,
   "metadata": {},
   "outputs": [],
   "source": [
    "c.temperature"
   ]
  },
  {
   "cell_type": "markdown",
   "metadata": {},
   "source": [
    "# F/9 WFS Camera dev"
   ]
  },
  {
   "cell_type": "code",
   "execution_count": null,
   "metadata": {
    "scrolled": false
   },
   "outputs": [],
   "source": [
    "f9 = F9WFSCam()"
   ]
  },
  {
   "cell_type": "code",
   "execution_count": null,
   "metadata": {
    "scrolled": false
   },
   "outputs": [],
   "source": [
    "f9.process_events()"
   ]
  },
  {
   "cell_type": "code",
   "execution_count": null,
   "metadata": {},
   "outputs": [],
   "source": [
    "v = f9.get_vector(\"SBIG CCD\", \"CCD_BINNING\")\n",
    "e = v.elements[0]"
   ]
  },
  {
   "cell_type": "code",
   "execution_count": null,
   "metadata": {},
   "outputs": [],
   "source": [
    "for e in v.elements:\n",
    "    print(\"%s %s\" % (e.getName(), e.get_int()))"
   ]
  },
  {
   "cell_type": "code",
   "execution_count": null,
   "metadata": {},
   "outputs": [],
   "source": [
    "f9.connected"
   ]
  },
  {
   "cell_type": "code",
   "execution_count": null,
   "metadata": {},
   "outputs": [],
   "source": [
    "f9.process_events()"
   ]
  },
  {
   "cell_type": "code",
   "execution_count": null,
   "metadata": {},
   "outputs": [],
   "source": [
    "f9.wfs_config()"
   ]
  },
  {
   "cell_type": "code",
   "execution_count": null,
   "metadata": {},
   "outputs": [],
   "source": [
    "f9.default_config()"
   ]
  },
  {
   "cell_type": "code",
   "execution_count": null,
   "metadata": {},
   "outputs": [],
   "source": [
    "f9.binning"
   ]
  },
  {
   "cell_type": "code",
   "execution_count": null,
   "metadata": {},
   "outputs": [],
   "source": [
    "f9.process_events()\n",
    "f = f9.expose(exptime=1.0, exptype=\"Light\")"
   ]
  },
  {
   "cell_type": "code",
   "execution_count": null,
   "metadata": {},
   "outputs": [],
   "source": [
    "norm = visualization.ImageNormalize(\n",
    "    f[0].data,\n",
    "    interval=visualization.ZScaleInterval(),\n",
    "    stretch=visualization.AsinhStretch()\n",
    ")\n",
    "plt.imshow(f[0].data, norm=norm)\n",
    "plt.show()"
   ]
  },
  {
   "cell_type": "code",
   "execution_count": null,
   "metadata": {},
   "outputs": [],
   "source": [
    "f.writeto(\"f9_sbig_ref.fits\")"
   ]
  },
  {
   "cell_type": "code",
   "execution_count": null,
   "metadata": {},
   "outputs": [],
   "source": [
    "f[0].data.max()"
   ]
  },
  {
   "cell_type": "code",
   "execution_count": null,
   "metadata": {},
   "outputs": [],
   "source": [
    "f9.temperature = 20"
   ]
  },
  {
   "cell_type": "code",
   "execution_count": null,
   "metadata": {},
   "outputs": [],
   "source": [
    "f9.get_float(\"SBIG CCD\", \"CCD_TEMPERATURE\", \"CCD_TEMPERATURE_VALUE\")"
   ]
  },
  {
   "cell_type": "code",
   "execution_count": null,
   "metadata": {},
   "outputs": [],
   "source": [
    "v = f9.get_vector(\"SBIG CCD\", \"CCD_TEMPERATURE\")\n",
    "v.get_element(\"CCD_TEMPERATURE_VALUE\").get_float()"
   ]
  },
  {
   "cell_type": "code",
   "execution_count": null,
   "metadata": {},
   "outputs": [],
   "source": [
    "f9.get_float(\"SBIG CCD\", \"CCD_COOLER_POWER\", \"CCD_COOLER_VALUE\")"
   ]
  },
  {
   "cell_type": "code",
   "execution_count": null,
   "metadata": {},
   "outputs": [],
   "source": [
    "f9.temperature"
   ]
  },
  {
   "cell_type": "code",
   "execution_count": null,
   "metadata": {},
   "outputs": [],
   "source": [
    "f9.cooling_power"
   ]
  },
  {
   "cell_type": "code",
   "execution_count": null,
   "metadata": {},
   "outputs": [],
   "source": [
    "f9.cooler"
   ]
  },
  {
   "cell_type": "code",
   "execution_count": null,
   "metadata": {},
   "outputs": [],
   "source": [
    "f[0].header"
   ]
  },
  {
   "cell_type": "code",
   "execution_count": null,
   "metadata": {},
   "outputs": [],
   "source": [
    "f9.observer = \"F/9 WFS\""
   ]
  },
  {
   "cell_type": "code",
   "execution_count": null,
   "metadata": {},
   "outputs": [],
   "source": [
    "f9.object = \"reference\""
   ]
  },
  {
   "cell_type": "code",
   "execution_count": null,
   "metadata": {},
   "outputs": [],
   "source": [
    "f[0].header"
   ]
  },
  {
   "cell_type": "code",
   "execution_count": null,
   "metadata": {},
   "outputs": [],
   "source": [
    "f9.tell()"
   ]
  },
  {
   "cell_type": "code",
   "execution_count": null,
   "metadata": {},
   "outputs": [],
   "source": [
    "f9.process_events()"
   ]
  },
  {
   "cell_type": "code",
   "execution_count": null,
   "metadata": {},
   "outputs": [],
   "source": []
  }
 ],
 "metadata": {
  "kernelspec": {
   "display_name": "Python 3",
   "language": "python",
   "name": "python3"
  },
  "language_info": {
   "codemirror_mode": {
    "name": "ipython",
    "version": 3
   },
   "file_extension": ".py",
   "mimetype": "text/x-python",
   "name": "python",
   "nbconvert_exporter": "python",
   "pygments_lexer": "ipython3",
   "version": "3.7.2"
  }
 },
 "nbformat": 4,
 "nbformat_minor": 2
}
